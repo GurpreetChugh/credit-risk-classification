{
 "cells": [
  {
   "cell_type": "code",
   "execution_count": 1,
   "metadata": {},
   "outputs": [],
   "source": [
    "# Import the modules\n",
    "import numpy as np\n",
    "import pandas as pd\n",
    "from pathlib import Path\n",
    "from sklearn.metrics import balanced_accuracy_score, confusion_matrix, classification_report\n",
    "from sklearn.preprocessing import StandardScaler"
   ]
  },
  {
   "cell_type": "markdown",
   "metadata": {},
   "source": [
    "---"
   ]
  },
  {
   "cell_type": "markdown",
   "metadata": {},
   "source": [
    "## Split the Data into Training and Testing Sets"
   ]
  },
  {
   "cell_type": "markdown",
   "metadata": {},
   "source": [
    "### Step 1: Read the `lending_data.csv` data from the `Resources` folder into a Pandas DataFrame."
   ]
  },
  {
   "cell_type": "code",
   "execution_count": 2,
   "metadata": {},
   "outputs": [
    {
     "data": {
      "text/html": [
       "<div>\n",
       "<style scoped>\n",
       "    .dataframe tbody tr th:only-of-type {\n",
       "        vertical-align: middle;\n",
       "    }\n",
       "\n",
       "    .dataframe tbody tr th {\n",
       "        vertical-align: top;\n",
       "    }\n",
       "\n",
       "    .dataframe thead th {\n",
       "        text-align: right;\n",
       "    }\n",
       "</style>\n",
       "<table border=\"1\" class=\"dataframe\">\n",
       "  <thead>\n",
       "    <tr style=\"text-align: right;\">\n",
       "      <th></th>\n",
       "      <th>loan_size</th>\n",
       "      <th>interest_rate</th>\n",
       "      <th>borrower_income</th>\n",
       "      <th>debt_to_income</th>\n",
       "      <th>num_of_accounts</th>\n",
       "      <th>derogatory_marks</th>\n",
       "      <th>total_debt</th>\n",
       "      <th>loan_status</th>\n",
       "    </tr>\n",
       "  </thead>\n",
       "  <tbody>\n",
       "    <tr>\n",
       "      <th>37469</th>\n",
       "      <td>9300.0</td>\n",
       "      <td>7.070</td>\n",
       "      <td>47100</td>\n",
       "      <td>0.363057</td>\n",
       "      <td>3</td>\n",
       "      <td>0</td>\n",
       "      <td>17100</td>\n",
       "      <td>0</td>\n",
       "    </tr>\n",
       "    <tr>\n",
       "      <th>33849</th>\n",
       "      <td>8000.0</td>\n",
       "      <td>6.526</td>\n",
       "      <td>42000</td>\n",
       "      <td>0.285714</td>\n",
       "      <td>2</td>\n",
       "      <td>0</td>\n",
       "      <td>12000</td>\n",
       "      <td>0</td>\n",
       "    </tr>\n",
       "    <tr>\n",
       "      <th>30114</th>\n",
       "      <td>11100.0</td>\n",
       "      <td>7.834</td>\n",
       "      <td>54300</td>\n",
       "      <td>0.447514</td>\n",
       "      <td>5</td>\n",
       "      <td>1</td>\n",
       "      <td>24300</td>\n",
       "      <td>0</td>\n",
       "    </tr>\n",
       "    <tr>\n",
       "      <th>13276</th>\n",
       "      <td>10400.0</td>\n",
       "      <td>7.546</td>\n",
       "      <td>51600</td>\n",
       "      <td>0.418605</td>\n",
       "      <td>4</td>\n",
       "      <td>1</td>\n",
       "      <td>21600</td>\n",
       "      <td>0</td>\n",
       "    </tr>\n",
       "    <tr>\n",
       "      <th>22928</th>\n",
       "      <td>8800.0</td>\n",
       "      <td>6.877</td>\n",
       "      <td>45300</td>\n",
       "      <td>0.337748</td>\n",
       "      <td>3</td>\n",
       "      <td>0</td>\n",
       "      <td>15300</td>\n",
       "      <td>0</td>\n",
       "    </tr>\n",
       "    <tr>\n",
       "      <th>46923</th>\n",
       "      <td>9700.0</td>\n",
       "      <td>7.261</td>\n",
       "      <td>48900</td>\n",
       "      <td>0.386503</td>\n",
       "      <td>4</td>\n",
       "      <td>0</td>\n",
       "      <td>18900</td>\n",
       "      <td>0</td>\n",
       "    </tr>\n",
       "    <tr>\n",
       "      <th>25831</th>\n",
       "      <td>8400.0</td>\n",
       "      <td>6.688</td>\n",
       "      <td>43500</td>\n",
       "      <td>0.310345</td>\n",
       "      <td>3</td>\n",
       "      <td>0</td>\n",
       "      <td>13500</td>\n",
       "      <td>0</td>\n",
       "    </tr>\n",
       "    <tr>\n",
       "      <th>41192</th>\n",
       "      <td>8700.0</td>\n",
       "      <td>6.817</td>\n",
       "      <td>44700</td>\n",
       "      <td>0.328859</td>\n",
       "      <td>3</td>\n",
       "      <td>0</td>\n",
       "      <td>14700</td>\n",
       "      <td>0</td>\n",
       "    </tr>\n",
       "    <tr>\n",
       "      <th>24220</th>\n",
       "      <td>8600.0</td>\n",
       "      <td>6.771</td>\n",
       "      <td>44300</td>\n",
       "      <td>0.322799</td>\n",
       "      <td>3</td>\n",
       "      <td>0</td>\n",
       "      <td>14300</td>\n",
       "      <td>0</td>\n",
       "    </tr>\n",
       "    <tr>\n",
       "      <th>23540</th>\n",
       "      <td>11100.0</td>\n",
       "      <td>7.856</td>\n",
       "      <td>54500</td>\n",
       "      <td>0.449541</td>\n",
       "      <td>5</td>\n",
       "      <td>1</td>\n",
       "      <td>24500</td>\n",
       "      <td>0</td>\n",
       "    </tr>\n",
       "  </tbody>\n",
       "</table>\n",
       "</div>"
      ],
      "text/plain": [
       "       loan_size  interest_rate  borrower_income  debt_to_income  \\\n",
       "37469     9300.0          7.070            47100        0.363057   \n",
       "33849     8000.0          6.526            42000        0.285714   \n",
       "30114    11100.0          7.834            54300        0.447514   \n",
       "13276    10400.0          7.546            51600        0.418605   \n",
       "22928     8800.0          6.877            45300        0.337748   \n",
       "46923     9700.0          7.261            48900        0.386503   \n",
       "25831     8400.0          6.688            43500        0.310345   \n",
       "41192     8700.0          6.817            44700        0.328859   \n",
       "24220     8600.0          6.771            44300        0.322799   \n",
       "23540    11100.0          7.856            54500        0.449541   \n",
       "\n",
       "       num_of_accounts  derogatory_marks  total_debt  loan_status  \n",
       "37469                3                 0       17100            0  \n",
       "33849                2                 0       12000            0  \n",
       "30114                5                 1       24300            0  \n",
       "13276                4                 1       21600            0  \n",
       "22928                3                 0       15300            0  \n",
       "46923                4                 0       18900            0  \n",
       "25831                3                 0       13500            0  \n",
       "41192                3                 0       14700            0  \n",
       "24220                3                 0       14300            0  \n",
       "23540                5                 1       24500            0  "
      ]
     },
     "execution_count": 2,
     "metadata": {},
     "output_type": "execute_result"
    }
   ],
   "source": [
    "# Read the CSV file from the Resources folder into a Pandas DataFrame\n",
    "df_lending = pd.read_csv(\"Resources/lending_data.csv\")\n",
    "\n",
    "# Review the DataFrame\n",
    "df_lending.sample(10)"
   ]
  },
  {
   "cell_type": "code",
   "execution_count": 3,
   "metadata": {},
   "outputs": [
    {
     "name": "stdout",
     "output_type": "stream",
     "text": [
      "<class 'pandas.core.frame.DataFrame'>\n",
      "RangeIndex: 77536 entries, 0 to 77535\n",
      "Data columns (total 8 columns):\n",
      " #   Column            Non-Null Count  Dtype  \n",
      "---  ------            --------------  -----  \n",
      " 0   loan_size         77536 non-null  float64\n",
      " 1   interest_rate     77536 non-null  float64\n",
      " 2   borrower_income   77536 non-null  int64  \n",
      " 3   debt_to_income    77536 non-null  float64\n",
      " 4   num_of_accounts   77536 non-null  int64  \n",
      " 5   derogatory_marks  77536 non-null  int64  \n",
      " 6   total_debt        77536 non-null  int64  \n",
      " 7   loan_status       77536 non-null  int64  \n",
      "dtypes: float64(3), int64(5)\n",
      "memory usage: 4.7 MB\n"
     ]
    }
   ],
   "source": [
    "df_lending.info()"
   ]
  },
  {
   "cell_type": "code",
   "execution_count": 4,
   "metadata": {},
   "outputs": [
    {
     "data": {
      "text/html": [
       "<div>\n",
       "<style scoped>\n",
       "    .dataframe tbody tr th:only-of-type {\n",
       "        vertical-align: middle;\n",
       "    }\n",
       "\n",
       "    .dataframe tbody tr th {\n",
       "        vertical-align: top;\n",
       "    }\n",
       "\n",
       "    .dataframe thead th {\n",
       "        text-align: right;\n",
       "    }\n",
       "</style>\n",
       "<table border=\"1\" class=\"dataframe\">\n",
       "  <thead>\n",
       "    <tr style=\"text-align: right;\">\n",
       "      <th></th>\n",
       "      <th>loan_size</th>\n",
       "      <th>interest_rate</th>\n",
       "      <th>borrower_income</th>\n",
       "      <th>debt_to_income</th>\n",
       "      <th>num_of_accounts</th>\n",
       "      <th>derogatory_marks</th>\n",
       "      <th>total_debt</th>\n",
       "      <th>loan_status</th>\n",
       "    </tr>\n",
       "  </thead>\n",
       "  <tbody>\n",
       "    <tr>\n",
       "      <th>count</th>\n",
       "      <td>77536.000000</td>\n",
       "      <td>77536.000000</td>\n",
       "      <td>77536.000000</td>\n",
       "      <td>77536.000000</td>\n",
       "      <td>77536.000000</td>\n",
       "      <td>77536.000000</td>\n",
       "      <td>77536.000000</td>\n",
       "      <td>77536.000000</td>\n",
       "    </tr>\n",
       "    <tr>\n",
       "      <th>mean</th>\n",
       "      <td>9805.562577</td>\n",
       "      <td>7.292333</td>\n",
       "      <td>49221.949804</td>\n",
       "      <td>0.377318</td>\n",
       "      <td>3.826610</td>\n",
       "      <td>0.392308</td>\n",
       "      <td>19221.949804</td>\n",
       "      <td>0.032243</td>\n",
       "    </tr>\n",
       "    <tr>\n",
       "      <th>std</th>\n",
       "      <td>2093.223153</td>\n",
       "      <td>0.889495</td>\n",
       "      <td>8371.635077</td>\n",
       "      <td>0.081519</td>\n",
       "      <td>1.904426</td>\n",
       "      <td>0.582086</td>\n",
       "      <td>8371.635077</td>\n",
       "      <td>0.176646</td>\n",
       "    </tr>\n",
       "    <tr>\n",
       "      <th>min</th>\n",
       "      <td>5000.000000</td>\n",
       "      <td>5.250000</td>\n",
       "      <td>30000.000000</td>\n",
       "      <td>0.000000</td>\n",
       "      <td>0.000000</td>\n",
       "      <td>0.000000</td>\n",
       "      <td>0.000000</td>\n",
       "      <td>0.000000</td>\n",
       "    </tr>\n",
       "    <tr>\n",
       "      <th>25%</th>\n",
       "      <td>8700.000000</td>\n",
       "      <td>6.825000</td>\n",
       "      <td>44800.000000</td>\n",
       "      <td>0.330357</td>\n",
       "      <td>3.000000</td>\n",
       "      <td>0.000000</td>\n",
       "      <td>14800.000000</td>\n",
       "      <td>0.000000</td>\n",
       "    </tr>\n",
       "    <tr>\n",
       "      <th>50%</th>\n",
       "      <td>9500.000000</td>\n",
       "      <td>7.172000</td>\n",
       "      <td>48100.000000</td>\n",
       "      <td>0.376299</td>\n",
       "      <td>4.000000</td>\n",
       "      <td>0.000000</td>\n",
       "      <td>18100.000000</td>\n",
       "      <td>0.000000</td>\n",
       "    </tr>\n",
       "    <tr>\n",
       "      <th>75%</th>\n",
       "      <td>10400.000000</td>\n",
       "      <td>7.528000</td>\n",
       "      <td>51400.000000</td>\n",
       "      <td>0.416342</td>\n",
       "      <td>4.000000</td>\n",
       "      <td>1.000000</td>\n",
       "      <td>21400.000000</td>\n",
       "      <td>0.000000</td>\n",
       "    </tr>\n",
       "    <tr>\n",
       "      <th>max</th>\n",
       "      <td>23800.000000</td>\n",
       "      <td>13.235000</td>\n",
       "      <td>105200.000000</td>\n",
       "      <td>0.714829</td>\n",
       "      <td>16.000000</td>\n",
       "      <td>3.000000</td>\n",
       "      <td>75200.000000</td>\n",
       "      <td>1.000000</td>\n",
       "    </tr>\n",
       "  </tbody>\n",
       "</table>\n",
       "</div>"
      ],
      "text/plain": [
       "          loan_size  interest_rate  borrower_income  debt_to_income  \\\n",
       "count  77536.000000   77536.000000     77536.000000    77536.000000   \n",
       "mean    9805.562577       7.292333     49221.949804        0.377318   \n",
       "std     2093.223153       0.889495      8371.635077        0.081519   \n",
       "min     5000.000000       5.250000     30000.000000        0.000000   \n",
       "25%     8700.000000       6.825000     44800.000000        0.330357   \n",
       "50%     9500.000000       7.172000     48100.000000        0.376299   \n",
       "75%    10400.000000       7.528000     51400.000000        0.416342   \n",
       "max    23800.000000      13.235000    105200.000000        0.714829   \n",
       "\n",
       "       num_of_accounts  derogatory_marks    total_debt   loan_status  \n",
       "count     77536.000000      77536.000000  77536.000000  77536.000000  \n",
       "mean          3.826610          0.392308  19221.949804      0.032243  \n",
       "std           1.904426          0.582086   8371.635077      0.176646  \n",
       "min           0.000000          0.000000      0.000000      0.000000  \n",
       "25%           3.000000          0.000000  14800.000000      0.000000  \n",
       "50%           4.000000          0.000000  18100.000000      0.000000  \n",
       "75%           4.000000          1.000000  21400.000000      0.000000  \n",
       "max          16.000000          3.000000  75200.000000      1.000000  "
      ]
     },
     "execution_count": 4,
     "metadata": {},
     "output_type": "execute_result"
    }
   ],
   "source": [
    "df_lending.describe()"
   ]
  },
  {
   "cell_type": "markdown",
   "metadata": {},
   "source": [
    "### Step 2: Create the labels set (`y`)  from the “loan_status” column, and then create the features (`X`) DataFrame from the remaining columns."
   ]
  },
  {
   "cell_type": "code",
   "execution_count": 5,
   "metadata": {},
   "outputs": [],
   "source": [
    "# Separate the data into labels and features\n",
    "\n",
    "# Separate the y variable, the labels\n",
    "y = df_lending['loan_status']\n",
    "\n",
    "# Separate the X variable, the features\n",
    "X = df_lending[df_lending.columns[:-1]]"
   ]
  },
  {
   "cell_type": "code",
   "execution_count": 6,
   "metadata": {},
   "outputs": [
    {
     "data": {
      "text/plain": [
       "0        0\n",
       "1        0\n",
       "2        0\n",
       "3        0\n",
       "4        0\n",
       "        ..\n",
       "77531    1\n",
       "77532    1\n",
       "77533    1\n",
       "77534    1\n",
       "77535    1\n",
       "Name: loan_status, Length: 77536, dtype: int64"
      ]
     },
     "execution_count": 6,
     "metadata": {},
     "output_type": "execute_result"
    }
   ],
   "source": [
    "# Review the y variable Series\n",
    "y"
   ]
  },
  {
   "cell_type": "code",
   "execution_count": 7,
   "metadata": {},
   "outputs": [
    {
     "data": {
      "text/html": [
       "<div>\n",
       "<style scoped>\n",
       "    .dataframe tbody tr th:only-of-type {\n",
       "        vertical-align: middle;\n",
       "    }\n",
       "\n",
       "    .dataframe tbody tr th {\n",
       "        vertical-align: top;\n",
       "    }\n",
       "\n",
       "    .dataframe thead th {\n",
       "        text-align: right;\n",
       "    }\n",
       "</style>\n",
       "<table border=\"1\" class=\"dataframe\">\n",
       "  <thead>\n",
       "    <tr style=\"text-align: right;\">\n",
       "      <th></th>\n",
       "      <th>loan_size</th>\n",
       "      <th>interest_rate</th>\n",
       "      <th>borrower_income</th>\n",
       "      <th>debt_to_income</th>\n",
       "      <th>num_of_accounts</th>\n",
       "      <th>derogatory_marks</th>\n",
       "      <th>total_debt</th>\n",
       "    </tr>\n",
       "  </thead>\n",
       "  <tbody>\n",
       "    <tr>\n",
       "      <th>57515</th>\n",
       "      <td>9000.0</td>\n",
       "      <td>6.930</td>\n",
       "      <td>45800</td>\n",
       "      <td>0.344978</td>\n",
       "      <td>3</td>\n",
       "      <td>0</td>\n",
       "      <td>15800</td>\n",
       "    </tr>\n",
       "    <tr>\n",
       "      <th>48402</th>\n",
       "      <td>10400.0</td>\n",
       "      <td>7.555</td>\n",
       "      <td>51700</td>\n",
       "      <td>0.419729</td>\n",
       "      <td>4</td>\n",
       "      <td>1</td>\n",
       "      <td>21700</td>\n",
       "    </tr>\n",
       "    <tr>\n",
       "      <th>7499</th>\n",
       "      <td>11900.0</td>\n",
       "      <td>8.197</td>\n",
       "      <td>57700</td>\n",
       "      <td>0.480069</td>\n",
       "      <td>6</td>\n",
       "      <td>1</td>\n",
       "      <td>27700</td>\n",
       "    </tr>\n",
       "    <tr>\n",
       "      <th>18524</th>\n",
       "      <td>8800.0</td>\n",
       "      <td>6.844</td>\n",
       "      <td>45000</td>\n",
       "      <td>0.333333</td>\n",
       "      <td>3</td>\n",
       "      <td>0</td>\n",
       "      <td>15000</td>\n",
       "    </tr>\n",
       "    <tr>\n",
       "      <th>53894</th>\n",
       "      <td>10200.0</td>\n",
       "      <td>7.444</td>\n",
       "      <td>50700</td>\n",
       "      <td>0.408284</td>\n",
       "      <td>4</td>\n",
       "      <td>1</td>\n",
       "      <td>20700</td>\n",
       "    </tr>\n",
       "    <tr>\n",
       "      <th>68710</th>\n",
       "      <td>9600.0</td>\n",
       "      <td>7.185</td>\n",
       "      <td>48200</td>\n",
       "      <td>0.377593</td>\n",
       "      <td>4</td>\n",
       "      <td>0</td>\n",
       "      <td>18200</td>\n",
       "    </tr>\n",
       "    <tr>\n",
       "      <th>43845</th>\n",
       "      <td>9900.0</td>\n",
       "      <td>7.326</td>\n",
       "      <td>49500</td>\n",
       "      <td>0.393939</td>\n",
       "      <td>4</td>\n",
       "      <td>0</td>\n",
       "      <td>19500</td>\n",
       "    </tr>\n",
       "    <tr>\n",
       "      <th>44701</th>\n",
       "      <td>10600.0</td>\n",
       "      <td>7.642</td>\n",
       "      <td>52500</td>\n",
       "      <td>0.428571</td>\n",
       "      <td>5</td>\n",
       "      <td>1</td>\n",
       "      <td>22500</td>\n",
       "    </tr>\n",
       "    <tr>\n",
       "      <th>49271</th>\n",
       "      <td>7800.0</td>\n",
       "      <td>6.437</td>\n",
       "      <td>41200</td>\n",
       "      <td>0.271845</td>\n",
       "      <td>2</td>\n",
       "      <td>0</td>\n",
       "      <td>11200</td>\n",
       "    </tr>\n",
       "    <tr>\n",
       "      <th>68575</th>\n",
       "      <td>10200.0</td>\n",
       "      <td>7.472</td>\n",
       "      <td>50900</td>\n",
       "      <td>0.410609</td>\n",
       "      <td>4</td>\n",
       "      <td>1</td>\n",
       "      <td>20900</td>\n",
       "    </tr>\n",
       "  </tbody>\n",
       "</table>\n",
       "</div>"
      ],
      "text/plain": [
       "       loan_size  interest_rate  borrower_income  debt_to_income  \\\n",
       "57515     9000.0          6.930            45800        0.344978   \n",
       "48402    10400.0          7.555            51700        0.419729   \n",
       "7499     11900.0          8.197            57700        0.480069   \n",
       "18524     8800.0          6.844            45000        0.333333   \n",
       "53894    10200.0          7.444            50700        0.408284   \n",
       "68710     9600.0          7.185            48200        0.377593   \n",
       "43845     9900.0          7.326            49500        0.393939   \n",
       "44701    10600.0          7.642            52500        0.428571   \n",
       "49271     7800.0          6.437            41200        0.271845   \n",
       "68575    10200.0          7.472            50900        0.410609   \n",
       "\n",
       "       num_of_accounts  derogatory_marks  total_debt  \n",
       "57515                3                 0       15800  \n",
       "48402                4                 1       21700  \n",
       "7499                 6                 1       27700  \n",
       "18524                3                 0       15000  \n",
       "53894                4                 1       20700  \n",
       "68710                4                 0       18200  \n",
       "43845                4                 0       19500  \n",
       "44701                5                 1       22500  \n",
       "49271                2                 0       11200  \n",
       "68575                4                 1       20900  "
      ]
     },
     "execution_count": 7,
     "metadata": {},
     "output_type": "execute_result"
    }
   ],
   "source": [
    "# Review the X variable DataFrame\n",
    "X.sample(10)"
   ]
  },
  {
   "cell_type": "markdown",
   "metadata": {},
   "source": [
    "### Step 3: Check the balance of the labels variable (`y`) by using the `value_counts` function."
   ]
  },
  {
   "cell_type": "code",
   "execution_count": 8,
   "metadata": {},
   "outputs": [
    {
     "data": {
      "text/plain": [
       "0    75036\n",
       "1     2500\n",
       "Name: loan_status, dtype: int64"
      ]
     },
     "execution_count": 8,
     "metadata": {},
     "output_type": "execute_result"
    }
   ],
   "source": [
    "# Check the balance of our target values\n",
    "unique_value_count = df_lending['loan_status'].value_counts()\n",
    "unique_value_count"
   ]
  },
  {
   "cell_type": "code",
   "execution_count": 9,
   "metadata": {},
   "outputs": [
    {
     "name": "stdout",
     "output_type": "stream",
     "text": [
      "Proportion of value  1 in dependent variable is 3.22%\n"
     ]
    }
   ],
   "source": [
    "print(f'Proportion of value  1 in dependent variable is {round((unique_value_count[1])*100/df_lending.shape[0], 2)}%')"
   ]
  },
  {
   "cell_type": "markdown",
   "metadata": {},
   "source": [
    "##### Dependent variable `Loan_Status` seems to be imbalanced with  majority of the values being 0 and only 3.22% of the values are 1"
   ]
  },
  {
   "cell_type": "markdown",
   "metadata": {},
   "source": [
    "### Step 4: Split the data into training and testing datasets by using `train_test_split`."
   ]
  },
  {
   "cell_type": "code",
   "execution_count": 10,
   "metadata": {},
   "outputs": [],
   "source": [
    "# Import the train_test_learn module\n",
    "from sklearn.model_selection import train_test_split\n",
    "\n",
    "# Split the data using train_test_split\n",
    "# Assign a random_state of 1 to the function\n",
    "\n",
    "X_train, X_test, y_train, y_test = train_test_split(X, y, test_size = 0.3, stratify=y, random_state = 1)"
   ]
  },
  {
   "cell_type": "markdown",
   "metadata": {},
   "source": [
    "### Step 5: Scaling input data using `StandardScaler`"
   ]
  },
  {
   "cell_type": "code",
   "execution_count": 11,
   "metadata": {},
   "outputs": [
    {
     "data": {
      "text/html": [
       "<div>\n",
       "<style scoped>\n",
       "    .dataframe tbody tr th:only-of-type {\n",
       "        vertical-align: middle;\n",
       "    }\n",
       "\n",
       "    .dataframe tbody tr th {\n",
       "        vertical-align: top;\n",
       "    }\n",
       "\n",
       "    .dataframe thead th {\n",
       "        text-align: right;\n",
       "    }\n",
       "</style>\n",
       "<table border=\"1\" class=\"dataframe\">\n",
       "  <thead>\n",
       "    <tr style=\"text-align: right;\">\n",
       "      <th></th>\n",
       "      <th>loan_size</th>\n",
       "      <th>interest_rate</th>\n",
       "      <th>borrower_income</th>\n",
       "      <th>debt_to_income</th>\n",
       "      <th>num_of_accounts</th>\n",
       "      <th>derogatory_marks</th>\n",
       "      <th>total_debt</th>\n",
       "    </tr>\n",
       "  </thead>\n",
       "  <tbody>\n",
       "    <tr>\n",
       "      <th>count</th>\n",
       "      <td>5.427500e+04</td>\n",
       "      <td>5.427500e+04</td>\n",
       "      <td>5.427500e+04</td>\n",
       "      <td>5.427500e+04</td>\n",
       "      <td>5.427500e+04</td>\n",
       "      <td>5.427500e+04</td>\n",
       "      <td>5.427500e+04</td>\n",
       "    </tr>\n",
       "    <tr>\n",
       "      <th>mean</th>\n",
       "      <td>-2.283694e-16</td>\n",
       "      <td>-2.843265e-16</td>\n",
       "      <td>-1.918175e-16</td>\n",
       "      <td>1.446338e-16</td>\n",
       "      <td>-1.423714e-16</td>\n",
       "      <td>-1.369538e-16</td>\n",
       "      <td>-1.918175e-16</td>\n",
       "    </tr>\n",
       "    <tr>\n",
       "      <th>std</th>\n",
       "      <td>1.000009e+00</td>\n",
       "      <td>1.000009e+00</td>\n",
       "      <td>1.000009e+00</td>\n",
       "      <td>1.000009e+00</td>\n",
       "      <td>1.000009e+00</td>\n",
       "      <td>1.000009e+00</td>\n",
       "      <td>1.000009e+00</td>\n",
       "    </tr>\n",
       "    <tr>\n",
       "      <th>min</th>\n",
       "      <td>-2.292847e+00</td>\n",
       "      <td>-2.293201e+00</td>\n",
       "      <td>-2.293227e+00</td>\n",
       "      <td>-4.626126e+00</td>\n",
       "      <td>-2.006720e+00</td>\n",
       "      <td>-6.747843e-01</td>\n",
       "      <td>-2.293227e+00</td>\n",
       "    </tr>\n",
       "    <tr>\n",
       "      <th>25%</th>\n",
       "      <td>-5.285491e-01</td>\n",
       "      <td>-5.257745e-01</td>\n",
       "      <td>-5.285785e-01</td>\n",
       "      <td>-5.768788e-01</td>\n",
       "      <td>-4.343226e-01</td>\n",
       "      <td>-6.747843e-01</td>\n",
       "      <td>-5.285785e-01</td>\n",
       "    </tr>\n",
       "    <tr>\n",
       "      <th>50%</th>\n",
       "      <td>-1.470794e-01</td>\n",
       "      <td>-1.363796e-01</td>\n",
       "      <td>-1.351097e-01</td>\n",
       "      <td>-1.375652e-02</td>\n",
       "      <td>8.980991e-02</td>\n",
       "      <td>-6.747843e-01</td>\n",
       "      <td>-1.351097e-01</td>\n",
       "    </tr>\n",
       "    <tr>\n",
       "      <th>75%</th>\n",
       "      <td>2.820741e-01</td>\n",
       "      <td>2.653592e-01</td>\n",
       "      <td>2.702824e-01</td>\n",
       "      <td>4.909495e-01</td>\n",
       "      <td>8.980991e-02</td>\n",
       "      <td>1.042794e+00</td>\n",
       "      <td>2.702824e-01</td>\n",
       "    </tr>\n",
       "    <tr>\n",
       "      <th>max</th>\n",
       "      <td>6.528642e+00</td>\n",
       "      <td>6.545053e+00</td>\n",
       "      <td>6.541937e+00</td>\n",
       "      <td>4.098726e+00</td>\n",
       "      <td>6.379400e+00</td>\n",
       "      <td>4.477950e+00</td>\n",
       "      <td>6.541937e+00</td>\n",
       "    </tr>\n",
       "  </tbody>\n",
       "</table>\n",
       "</div>"
      ],
      "text/plain": [
       "          loan_size  interest_rate  borrower_income  debt_to_income  \\\n",
       "count  5.427500e+04   5.427500e+04     5.427500e+04    5.427500e+04   \n",
       "mean  -2.283694e-16  -2.843265e-16    -1.918175e-16    1.446338e-16   \n",
       "std    1.000009e+00   1.000009e+00     1.000009e+00    1.000009e+00   \n",
       "min   -2.292847e+00  -2.293201e+00    -2.293227e+00   -4.626126e+00   \n",
       "25%   -5.285491e-01  -5.257745e-01    -5.285785e-01   -5.768788e-01   \n",
       "50%   -1.470794e-01  -1.363796e-01    -1.351097e-01   -1.375652e-02   \n",
       "75%    2.820741e-01   2.653592e-01     2.702824e-01    4.909495e-01   \n",
       "max    6.528642e+00   6.545053e+00     6.541937e+00    4.098726e+00   \n",
       "\n",
       "       num_of_accounts  derogatory_marks    total_debt  \n",
       "count     5.427500e+04      5.427500e+04  5.427500e+04  \n",
       "mean     -1.423714e-16     -1.369538e-16 -1.918175e-16  \n",
       "std       1.000009e+00      1.000009e+00  1.000009e+00  \n",
       "min      -2.006720e+00     -6.747843e-01 -2.293227e+00  \n",
       "25%      -4.343226e-01     -6.747843e-01 -5.285785e-01  \n",
       "50%       8.980991e-02     -6.747843e-01 -1.351097e-01  \n",
       "75%       8.980991e-02      1.042794e+00  2.702824e-01  \n",
       "max       6.379400e+00      4.477950e+00  6.541937e+00  "
      ]
     },
     "execution_count": 11,
     "metadata": {},
     "output_type": "execute_result"
    }
   ],
   "source": [
    "scaler = StandardScaler()\n",
    "X_scaler= scaler.fit(X_train)\n",
    "X_scaler_train = X_scaler.transform(X_train)\n",
    "X_scaler_test = X_scaler.transform(X_test)\n",
    "pd.DataFrame(X_scaler_train, columns = X_train.columns).describe()"
   ]
  },
  {
   "cell_type": "markdown",
   "metadata": {},
   "source": [
    "---"
   ]
  },
  {
   "cell_type": "markdown",
   "metadata": {},
   "source": [
    "## Create a Logistic Regression Model with the Original Data"
   ]
  },
  {
   "cell_type": "markdown",
   "metadata": {},
   "source": [
    "###  Step 1: Fit a logistic regression model by using the training data (`X_train` and `y_train`)."
   ]
  },
  {
   "cell_type": "code",
   "execution_count": 12,
   "metadata": {},
   "outputs": [
    {
     "data": {
      "text/plain": [
       "LogisticRegression(random_state=1)"
      ]
     },
     "execution_count": 12,
     "metadata": {},
     "output_type": "execute_result"
    }
   ],
   "source": [
    "# Import the LogisticRegression module from SKLearn\n",
    "from sklearn.linear_model import LogisticRegression\n",
    "\n",
    "# Instantiate the Logistic Regression model\n",
    "# Assign a random_state parameter of 1 to the model\n",
    "model =  LogisticRegression(random_state = 1)\n",
    "# Fit the model using training data\n",
    "model.fit(X_scaler_train, y_train)"
   ]
  },
  {
   "cell_type": "markdown",
   "metadata": {},
   "source": [
    "### Step 2: Save the predictions on the testing data labels by using the testing feature data (`X_test`) and the fitted model."
   ]
  },
  {
   "cell_type": "code",
   "execution_count": 13,
   "metadata": {},
   "outputs": [],
   "source": [
    "# Make a prediction using the testing data\n",
    "y_pred = model.predict(X_scaler_test)"
   ]
  },
  {
   "cell_type": "markdown",
   "metadata": {},
   "source": [
    "### Step 3: Evaluate the model’s performance by doing the following:\n",
    "\n",
    "* Calculate the accuracy score of the model.\n",
    "\n",
    "* Generate a confusion matrix.\n",
    "\n",
    "* Print the classification report."
   ]
  },
  {
   "cell_type": "code",
   "execution_count": 14,
   "metadata": {},
   "outputs": [
    {
     "name": "stdout",
     "output_type": "stream",
     "text": [
      "0.9888456606399834\n"
     ]
    }
   ],
   "source": [
    "# Print the balanced_accuracy score of the model\n",
    "balanced_acc =  balanced_accuracy_score(y_test, y_pred)\n",
    "print(balanced_acc)"
   ]
  },
  {
   "cell_type": "code",
   "execution_count": 15,
   "metadata": {},
   "outputs": [
    {
     "data": {
      "text/html": [
       "<div>\n",
       "<style scoped>\n",
       "    .dataframe tbody tr th:only-of-type {\n",
       "        vertical-align: middle;\n",
       "    }\n",
       "\n",
       "    .dataframe tbody tr th {\n",
       "        vertical-align: top;\n",
       "    }\n",
       "\n",
       "    .dataframe thead th {\n",
       "        text-align: right;\n",
       "    }\n",
       "</style>\n",
       "<table border=\"1\" class=\"dataframe\">\n",
       "  <thead>\n",
       "    <tr style=\"text-align: right;\">\n",
       "      <th></th>\n",
       "      <th>Pred 0</th>\n",
       "      <th>Pred 1</th>\n",
       "    </tr>\n",
       "  </thead>\n",
       "  <tbody>\n",
       "    <tr>\n",
       "      <th>Actual 0</th>\n",
       "      <td>22399</td>\n",
       "      <td>112</td>\n",
       "    </tr>\n",
       "    <tr>\n",
       "      <th>Actual 1</th>\n",
       "      <td>13</td>\n",
       "      <td>737</td>\n",
       "    </tr>\n",
       "  </tbody>\n",
       "</table>\n",
       "</div>"
      ],
      "text/plain": [
       "          Pred 0  Pred 1\n",
       "Actual 0   22399     112\n",
       "Actual 1      13     737"
      ]
     },
     "execution_count": 15,
     "metadata": {},
     "output_type": "execute_result"
    }
   ],
   "source": [
    "# Generate a confusion matrix for the model\n",
    "matrix = confusion_matrix(y_test, y_pred)\n",
    "pd.DataFrame(matrix, index = ['Actual 0', 'Actual 1'], columns = ['Pred 0', 'Pred 1'])"
   ]
  },
  {
   "cell_type": "code",
   "execution_count": 16,
   "metadata": {},
   "outputs": [
    {
     "name": "stdout",
     "output_type": "stream",
     "text": [
      "              precision    recall  f1-score   support\n",
      "\n",
      "           0       1.00      1.00      1.00     22511\n",
      "           1       0.87      0.98      0.92       750\n",
      "\n",
      "    accuracy                           0.99     23261\n",
      "   macro avg       0.93      0.99      0.96     23261\n",
      "weighted avg       1.00      0.99      0.99     23261\n",
      "\n"
     ]
    }
   ],
   "source": [
    "# Print the classification report for the model\n",
    "report = classification_report(y_test, y_pred)\n",
    "print(report)"
   ]
  },
  {
   "cell_type": "markdown",
   "metadata": {},
   "source": [
    "### Step 4: Answer the following question."
   ]
  },
  {
   "cell_type": "markdown",
   "metadata": {},
   "source": [
    "**Question:** How well does the logistic regression model predict both the `0` (healthy loan) and `1` (high-risk loan) labels?\n",
    "\n",
    "**Answer:** Overall balanced accuracy is close to 99%. Recall of class `0` is almost 100% while that of class `1` is 92%. So we can conclude that model did a very good job of predicting the classes on the test data"
   ]
  },
  {
   "cell_type": "markdown",
   "metadata": {},
   "source": [
    "---"
   ]
  },
  {
   "cell_type": "markdown",
   "metadata": {},
   "source": [
    "## Predict a Logistic Regression Model with Resampled Training Data"
   ]
  },
  {
   "cell_type": "markdown",
   "metadata": {},
   "source": [
    "### Step 1: Use the `RandomOverSampler` module from the imbalanced-learn library to resample the data. Be sure to confirm that the labels have an equal number of data points. "
   ]
  },
  {
   "cell_type": "code",
   "execution_count": 17,
   "metadata": {},
   "outputs": [],
   "source": [
    "# Import the RandomOverSampler module form imbalanced-learn\n",
    "from imblearn.over_sampling import RandomOverSampler\n",
    "\n",
    "# Instantiate the random oversampler model\n",
    "# # Assign a random_state parameter of 1 to the model\n",
    "ros_model = RandomOverSampler(random_state=1)\n",
    "\n",
    "# Fit the original training data to the random_oversampler model\n",
    "X_resampled, y_resampled =  ros_model.fit_resample(X, y)"
   ]
  },
  {
   "cell_type": "code",
   "execution_count": 18,
   "metadata": {},
   "outputs": [
    {
     "data": {
      "text/plain": [
       "0    75036\n",
       "1    75036\n",
       "Name: loan_status, dtype: int64"
      ]
     },
     "execution_count": 18,
     "metadata": {},
     "output_type": "execute_result"
    }
   ],
   "source": [
    "# Count the distinct values of the resampled labels data\n",
    "y_resampled.value_counts()"
   ]
  },
  {
   "cell_type": "markdown",
   "metadata": {},
   "source": [
    "### Step 2: Use the `LogisticRegression` classifier and the resampled data to fit the model and make predictions."
   ]
  },
  {
   "cell_type": "code",
   "execution_count": 19,
   "metadata": {},
   "outputs": [],
   "source": [
    "# splitting resampled data into train and test\n",
    "X_resample_train, X_resample_test, y_resample_train, y_resample_test = train_test_split(X_resampled, y_resampled, \n",
    "                                                                                        test_size = 0.3, stratify=y_resampled,\n",
    "                                                                                      random_state=1)\n"
   ]
  },
  {
   "cell_type": "code",
   "execution_count": 20,
   "metadata": {},
   "outputs": [
    {
     "data": {
      "text/html": [
       "<div>\n",
       "<style scoped>\n",
       "    .dataframe tbody tr th:only-of-type {\n",
       "        vertical-align: middle;\n",
       "    }\n",
       "\n",
       "    .dataframe tbody tr th {\n",
       "        vertical-align: top;\n",
       "    }\n",
       "\n",
       "    .dataframe thead th {\n",
       "        text-align: right;\n",
       "    }\n",
       "</style>\n",
       "<table border=\"1\" class=\"dataframe\">\n",
       "  <thead>\n",
       "    <tr style=\"text-align: right;\">\n",
       "      <th></th>\n",
       "      <th>loan_size</th>\n",
       "      <th>interest_rate</th>\n",
       "      <th>borrower_income</th>\n",
       "      <th>debt_to_income</th>\n",
       "      <th>num_of_accounts</th>\n",
       "      <th>derogatory_marks</th>\n",
       "      <th>total_debt</th>\n",
       "    </tr>\n",
       "  </thead>\n",
       "  <tbody>\n",
       "    <tr>\n",
       "      <th>count</th>\n",
       "      <td>1.050500e+05</td>\n",
       "      <td>1.050500e+05</td>\n",
       "      <td>1.050500e+05</td>\n",
       "      <td>1.050500e+05</td>\n",
       "      <td>1.050500e+05</td>\n",
       "      <td>1.050500e+05</td>\n",
       "      <td>1.050500e+05</td>\n",
       "    </tr>\n",
       "    <tr>\n",
       "      <th>mean</th>\n",
       "      <td>3.862794e-18</td>\n",
       "      <td>-4.873356e-17</td>\n",
       "      <td>-2.170985e-17</td>\n",
       "      <td>3.941244e-16</td>\n",
       "      <td>1.019418e-16</td>\n",
       "      <td>-8.632335e-16</td>\n",
       "      <td>-2.170985e-17</td>\n",
       "    </tr>\n",
       "    <tr>\n",
       "      <th>std</th>\n",
       "      <td>1.000005e+00</td>\n",
       "      <td>1.000005e+00</td>\n",
       "      <td>1.000005e+00</td>\n",
       "      <td>1.000005e+00</td>\n",
       "      <td>1.000005e+00</td>\n",
       "      <td>1.000005e+00</td>\n",
       "      <td>1.000005e+00</td>\n",
       "    </tr>\n",
       "    <tr>\n",
       "      <th>min</th>\n",
       "      <td>-1.900110e+00</td>\n",
       "      <td>-1.900173e+00</td>\n",
       "      <td>-1.900188e+00</td>\n",
       "      <td>-3.461690e+00</td>\n",
       "      <td>-1.779480e+00</td>\n",
       "      <td>-1.220560e+00</td>\n",
       "      <td>-1.900188e+00</td>\n",
       "    </tr>\n",
       "    <tr>\n",
       "      <th>25%</th>\n",
       "      <td>-9.520848e-01</td>\n",
       "      <td>-9.597583e-01</td>\n",
       "      <td>-9.573392e-01</td>\n",
       "      <td>-8.985186e-01</td>\n",
       "      <td>-8.447578e-01</td>\n",
       "      <td>-1.220560e+00</td>\n",
       "      <td>-9.573392e-01</td>\n",
       "    </tr>\n",
       "    <tr>\n",
       "      <th>50%</th>\n",
       "      <td>-2.512685e-02</td>\n",
       "      <td>-1.983952e-02</td>\n",
       "      <td>-1.975766e-02</td>\n",
       "      <td>2.653406e-01</td>\n",
       "      <td>8.996421e-02</td>\n",
       "      <td>-2.410947e-01</td>\n",
       "      <td>-1.975766e-02</td>\n",
       "    </tr>\n",
       "    <tr>\n",
       "      <th>75%</th>\n",
       "      <td>9.650328e-01</td>\n",
       "      <td>9.681658e-01</td>\n",
       "      <td>9.704970e-01</td>\n",
       "      <td>9.621549e-01</td>\n",
       "      <td>1.024686e+00</td>\n",
       "      <td>7.383701e-01</td>\n",
       "      <td>9.704970e-01</td>\n",
       "    </tr>\n",
       "    <tr>\n",
       "      <th>max</th>\n",
       "      <td>1.997327e+00</td>\n",
       "      <td>2.004258e+00</td>\n",
       "      <td>2.002890e+00</td>\n",
       "      <td>1.420645e+00</td>\n",
       "      <td>1.959408e+00</td>\n",
       "      <td>1.717835e+00</td>\n",
       "      <td>2.002890e+00</td>\n",
       "    </tr>\n",
       "  </tbody>\n",
       "</table>\n",
       "</div>"
      ],
      "text/plain": [
       "          loan_size  interest_rate  borrower_income  debt_to_income  \\\n",
       "count  1.050500e+05   1.050500e+05     1.050500e+05    1.050500e+05   \n",
       "mean   3.862794e-18  -4.873356e-17    -2.170985e-17    3.941244e-16   \n",
       "std    1.000005e+00   1.000005e+00     1.000005e+00    1.000005e+00   \n",
       "min   -1.900110e+00  -1.900173e+00    -1.900188e+00   -3.461690e+00   \n",
       "25%   -9.520848e-01  -9.597583e-01    -9.573392e-01   -8.985186e-01   \n",
       "50%   -2.512685e-02  -1.983952e-02    -1.975766e-02    2.653406e-01   \n",
       "75%    9.650328e-01   9.681658e-01     9.704970e-01    9.621549e-01   \n",
       "max    1.997327e+00   2.004258e+00     2.002890e+00    1.420645e+00   \n",
       "\n",
       "       num_of_accounts  derogatory_marks    total_debt  \n",
       "count     1.050500e+05      1.050500e+05  1.050500e+05  \n",
       "mean      1.019418e-16     -8.632335e-16 -2.170985e-17  \n",
       "std       1.000005e+00      1.000005e+00  1.000005e+00  \n",
       "min      -1.779480e+00     -1.220560e+00 -1.900188e+00  \n",
       "25%      -8.447578e-01     -1.220560e+00 -9.573392e-01  \n",
       "50%       8.996421e-02     -2.410947e-01 -1.975766e-02  \n",
       "75%       1.024686e+00      7.383701e-01  9.704970e-01  \n",
       "max       1.959408e+00      1.717835e+00  2.002890e+00  "
      ]
     },
     "execution_count": 20,
     "metadata": {},
     "output_type": "execute_result"
    }
   ],
   "source": [
    "# Scaling the resampled data\n",
    "X_resample_scaler = scaler.fit(X_resample_train)\n",
    "X_resample_scaler_train = X_resample_scaler.transform(X_resample_train)\n",
    "X_resample_scaler_test = X_resample_scaler.transform(X_resample_test)\n",
    "pd.DataFrame(X_resample_scaler_train, columns = X_resample_train.columns).describe()"
   ]
  },
  {
   "cell_type": "code",
   "execution_count": 21,
   "metadata": {},
   "outputs": [],
   "source": [
    "# Instantiate the Logistic Regression model\n",
    "# Assign a random_state parameter of 1 to the model\n",
    "model_resample =  LogisticRegression(random_state = 1)\n",
    "\n",
    "# Fit the model using the resampled training data\n",
    "model_resample.fit(X_resample_scaler_train, y_resample_train)\n",
    "\n",
    "# Make a prediction using the testing data\n",
    "y_resample_pred = model_resample.predict(X_resample_scaler_test)"
   ]
  },
  {
   "cell_type": "markdown",
   "metadata": {},
   "source": [
    "### Step 3: Evaluate the model’s performance by doing the following:\n",
    "\n",
    "* Calculate the accuracy score of the model.\n",
    "\n",
    "* Generate a confusion matrix.\n",
    "\n",
    "* Print the classification report."
   ]
  },
  {
   "cell_type": "code",
   "execution_count": 22,
   "metadata": {},
   "outputs": [
    {
     "name": "stdout",
     "output_type": "stream",
     "text": [
      "0.9947359068899649\n"
     ]
    }
   ],
   "source": [
    "# Print the balanced_accuracy score of the model \n",
    "balanced_acc_resample =  balanced_accuracy_score(y_resample_test, y_resample_pred)\n",
    "print(balanced_acc_resample)"
   ]
  },
  {
   "cell_type": "code",
   "execution_count": 23,
   "metadata": {},
   "outputs": [
    {
     "data": {
      "text/html": [
       "<div>\n",
       "<style scoped>\n",
       "    .dataframe tbody tr th:only-of-type {\n",
       "        vertical-align: middle;\n",
       "    }\n",
       "\n",
       "    .dataframe tbody tr th {\n",
       "        vertical-align: top;\n",
       "    }\n",
       "\n",
       "    .dataframe thead th {\n",
       "        text-align: right;\n",
       "    }\n",
       "</style>\n",
       "<table border=\"1\" class=\"dataframe\">\n",
       "  <thead>\n",
       "    <tr style=\"text-align: right;\">\n",
       "      <th></th>\n",
       "      <th>Pred 0</th>\n",
       "      <th>Pred 1</th>\n",
       "    </tr>\n",
       "  </thead>\n",
       "  <tbody>\n",
       "    <tr>\n",
       "      <th>Actual 0</th>\n",
       "      <td>22389</td>\n",
       "      <td>122</td>\n",
       "    </tr>\n",
       "    <tr>\n",
       "      <th>Actual 1</th>\n",
       "      <td>115</td>\n",
       "      <td>22396</td>\n",
       "    </tr>\n",
       "  </tbody>\n",
       "</table>\n",
       "</div>"
      ],
      "text/plain": [
       "          Pred 0  Pred 1\n",
       "Actual 0   22389     122\n",
       "Actual 1     115   22396"
      ]
     },
     "execution_count": 23,
     "metadata": {},
     "output_type": "execute_result"
    }
   ],
   "source": [
    "# Generate a confusion matrix for the model\n",
    "matrix_resample = confusion_matrix(y_resample_test, y_resample_pred)\n",
    "pd.DataFrame(matrix_resample, index = ['Actual 0', 'Actual 1'], columns = ['Pred 0', 'Pred 1'])"
   ]
  },
  {
   "cell_type": "code",
   "execution_count": 24,
   "metadata": {},
   "outputs": [
    {
     "name": "stdout",
     "output_type": "stream",
     "text": [
      "              precision    recall  f1-score   support\n",
      "\n",
      "           0       0.99      0.99      0.99     22511\n",
      "           1       0.99      0.99      0.99     22511\n",
      "\n",
      "    accuracy                           0.99     45022\n",
      "   macro avg       0.99      0.99      0.99     45022\n",
      "weighted avg       0.99      0.99      0.99     45022\n",
      "\n"
     ]
    }
   ],
   "source": [
    "# Print the classification report for the model\n",
    "report_resample = classification_report(y_resample_test, y_resample_pred)\n",
    "print(report_resample)"
   ]
  },
  {
   "cell_type": "markdown",
   "metadata": {},
   "source": [
    "### Step 4: Answer the following question"
   ]
  },
  {
   "cell_type": "markdown",
   "metadata": {},
   "source": [
    "**Question:** How well does the logistic regression model, fit with oversampled data, predict both the `0` (healthy loan) and `1` (high-risk loan) labels?\n",
    "\n",
    "**Answer:** Model with oversampled data did comparatively better than original data. Total balanced accuracy further improved from 98.88% to 99.47%. There is an improvement in `Precision` and `Recall` of class `1` , while a slight deterioration in prediction accuracy for class `0`. As a business manager, I would trade off improvement in `Recall` for class `1` high risk loan with slight decline in performance for class`0`"
   ]
  }
 ],
 "metadata": {
  "kernelspec": {
   "display_name": "Python 3 (ipykernel)",
   "language": "python",
   "name": "python3"
  },
  "language_info": {
   "codemirror_mode": {
    "name": "ipython",
    "version": 3
   },
   "file_extension": ".py",
   "mimetype": "text/x-python",
   "name": "python",
   "nbconvert_exporter": "python",
   "pygments_lexer": "ipython3",
   "version": "3.9.13"
  },
  "vscode": {
   "interpreter": {
    "hash": "31f2aee4e71d21fbe5cf8b01ff0e069b9275f58929596ceb00d14d90e3e16cd6"
   }
  }
 },
 "nbformat": 4,
 "nbformat_minor": 4
}
